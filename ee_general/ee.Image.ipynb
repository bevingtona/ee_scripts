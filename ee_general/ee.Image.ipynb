{
 "cells": [
  {
   "cell_type": "markdown",
   "metadata": {},
   "source": [
    "# Google Earth Engine > ee.Image\n",
    "Jupyter Notebook by Alexandre Bevington (FLNRO, UNBC) github.com/bevingtona <br>\n",
    "February 3, 2019"
   ]
  },
  {
   "cell_type": "markdown",
   "metadata": {},
   "source": [
    "## 1 Prep Environment"
   ]
  },
  {
   "cell_type": "markdown",
   "metadata": {},
   "source": [
    "### 1.0 Pip Install "
   ]
  },
  {
   "cell_type": "code",
   "execution_count": 3,
   "metadata": {},
   "outputs": [],
   "source": [
    "# https://developers.google.com/earth-engine/python_install_manual\n",
    "#!pip install ipyleaflet"
   ]
  },
  {
   "cell_type": "markdown",
   "metadata": {},
   "source": [
    "### 1.1 Import"
   ]
  },
  {
   "cell_type": "code",
   "execution_count": 4,
   "metadata": {},
   "outputs": [],
   "source": [
    "# Import packages\n",
    "from IPython.display import Image\n",
    "from ipyleaflet import *\n",
    "import ee\n",
    "import numpy as np\n",
    "import matplotlib as mp"
   ]
  },
  {
   "cell_type": "markdown",
   "metadata": {},
   "source": [
    "### 1.2 Initialize"
   ]
  },
  {
   "cell_type": "code",
   "execution_count": 5,
   "metadata": {},
   "outputs": [],
   "source": [
    "# Initialize\n",
    "ee.Initialize()\n",
    "\n",
    "# Matplotlib inline\n",
    "%matplotlib inline\n",
    "\n",
    "# Zoom\n",
    "mpld3.enable_notebook()"
   ]
  },
  {
   "cell_type": "markdown",
   "metadata": {},
   "source": [
    "## 2 Define Functions"
   ]
  },
  {
   "cell_type": "markdown",
   "metadata": {},
   "source": [
    "### 2.0 Surface Reflectance"
   ]
  },
  {
   "cell_type": "code",
   "execution_count": 6,
   "metadata": {},
   "outputs": [],
   "source": [
    "def SR(img):\n",
    "    img = img.addBands(img.select(['blue', 'green', 'red', 'nir', 'swir1', 'swir2']).multiply(0.0001))\n",
    "    img = img.addBands(img.select(['tir']).multiply(0.1));\n",
    "    img = img.select(['blue_1', 'green_1', 'red_1', 'nir_1', 'swir1_1', 'swir2_1','tir_1'],['blue', 'green', 'red', 'nir', 'swir1', 'swir2','tir'])\n",
    "    \n",
    "    return img"
   ]
  },
  {
   "cell_type": "markdown",
   "metadata": {},
   "source": [
    "### 2.1 Indices"
   ]
  },
  {
   "cell_type": "code",
   "execution_count": 26,
   "metadata": {},
   "outputs": [],
   "source": [
    "def NDVI(img):\n",
    "    img = img.addBands(img.normalizedDifference(['nir', 'red']).rename('ndvi'))\n",
    "    img = img.addBands(img.normalizedDifference(['green', 'nir']).rename('ndwi'))\n",
    "    img = img.addBands(img.normalizedDifference(['green', 'swir1']).rename('mndwi'))\n",
    "    img = img.addBands(img.normalizedDifference(['nir', 'swir1']).rename('ndmi'))\n",
    "    img = img.addBands(img.normalizedDifference(['nir', 'swir2']).rename('nbr'))\n",
    "    return img"
   ]
  },
  {
   "cell_type": "markdown",
   "metadata": {},
   "source": [
    "### 2.2 Cloud Mask"
   ]
  },
  {
   "cell_type": "code",
   "execution_count": 27,
   "metadata": {},
   "outputs": [],
   "source": [
    "def NDCI(img):\n",
    "    img = img.addBands(img.select('tir').unitScale(240,270)); \n",
    "    img = img.addBands(img.normalizedDifference(['tir_1','swir2']))\n",
    "    img = img.addBands(img.select('nd').gt(0.4).rename('clear'));\n",
    "    img = img.addBands(img.select('nd').lte(0.4).rename('cloud'));\n",
    "    mask = ee.Image(1).updateMask(img.select('cloud')).byte().reduceToVectors(\n",
    "        {\n",
    "            geometry: aoi, \n",
    "            crs: 'EPSG:3005', \n",
    "            scale: 300, \n",
    "            maxPixels: 1e13\n",
    "        }\n",
    "    )\n",
    "      \n",
    "    maskImg = ee.Image(1).subtract(ee.Image(1).clipToCollection(mask).unmask())\n",
    "    \n",
    "    return img.updateMask(maskImg)"
   ]
  },
  {
   "cell_type": "markdown",
   "metadata": {},
   "source": [
    "## 3 Band Names"
   ]
  },
  {
   "cell_type": "code",
   "execution_count": 28,
   "metadata": {},
   "outputs": [],
   "source": [
    "BANDS_MSS = ['B4', 'B4', 'B4', 'B5', 'B6', 'B6', 'B6', 'B6'];\n",
    "BANDS_TM  = ['B1', 'B1', 'B2', 'B3', 'B4', 'B5', 'B7', 'B6'];\n",
    "BANDS_ETM = ['B1', 'B1', 'B2', 'B3', 'B4', 'B5', 'B7', 'B6'];\n",
    "BANDS_OLI = ['B1', 'B2', 'B3', 'B4', 'B5', 'B6', 'B7', 'B10'];\n",
    "BANDS_MSI = ['B1', 'B2', 'B3', 'B4', 'B8', 'B11','B12','B12'];\n",
    "BANDS_AST = ['B01', 'B01', 'B01', 'B02', 'B3N', 'B04', 'B07', 'B13'];\n",
    "NAMES_STD = ['blue2', 'blue', 'green', 'red', 'nir', 'swir1', 'swir2', 'tir',];"
   ]
  },
  {
   "cell_type": "markdown",
   "metadata": {},
   "source": [
    "## 4 Area of Interest"
   ]
  },
  {
   "cell_type": "code",
   "execution_count": 29,
   "metadata": {},
   "outputs": [
    {
     "name": "stdout",
     "output_type": "stream",
     "text": [
      "GEE {'type': 'Point', 'coordinates': [-121.638316, 56.862497]} JSON {'geometry': {'type': 'Point', 'coordinates': [-121.638316, 56.862497]}, 'type': 'Feature'}\n"
     ]
    }
   ],
   "source": [
    "nor = 56.862497\n",
    "eas = -121.638316\n",
    "\n",
    "aoi_gee = {\n",
    "    'type':'Point', \n",
    "    'coordinates':[eas,nor]};\n",
    "\n",
    "aoi_json = {\n",
    "    \"type\": \"Feature\",\n",
    "    \"geometry\": {\"type\": \"Point\",\n",
    "        \"coordinates\": [eas, nor]}}\n",
    "\n",
    "print 'GEE', aoi_gee, 'JSON', aoi_json"
   ]
  },
  {
   "cell_type": "code",
   "execution_count": null,
   "metadata": {},
   "outputs": [],
   "source": []
  },
  {
   "cell_type": "markdown",
   "metadata": {},
   "source": [
    "## 5 Collections"
   ]
  },
  {
   "cell_type": "code",
   "execution_count": 30,
   "metadata": {},
   "outputs": [
    {
     "name": "stdout",
     "output_type": "stream",
     "text": [
      "There are  470  images in the collection.\n"
     ]
    }
   ],
   "source": [
    "# Merge collections, normalize band names\n",
    "col = ee.ImageCollection(\"LANDSAT/LC08/C01/T1_SR\").select(BANDS_OLI, NAMES_STD)\n",
    "col = col.merge(ee.ImageCollection(\"LANDSAT/LE07/C01/T1_SR\").select(BANDS_ETM, NAMES_STD))\n",
    "col = col.merge(ee.ImageCollection(\"LANDSAT/LT05/C01/T1_SR\").select(BANDS_TM, NAMES_STD))\n",
    "col = col.merge(ee.ImageCollection(\"LANDSAT/LT04/C01/T1_SR\").select(BANDS_TM, NAMES_STD))\n",
    "\n",
    "# Filter collection\n",
    "col = col.filterDate('1985-01-01','2020-01-01')\n",
    "col = col.filterMetadata(\"CLOUD_COVER\", \"less_than\", 30)\n",
    "#col = col.filter(ee.Filter.dayOfYear(100,250))\n",
    "col = col.filterBounds(aoi_gee)\n",
    "\n",
    "print \"There are \", col.size().getInfo(), \" images in the collection.\" "
   ]
  },
  {
   "cell_type": "markdown",
   "metadata": {},
   "source": [
    "## 6 First Image "
   ]
  },
  {
   "cell_type": "code",
   "execution_count": 32,
   "metadata": {},
   "outputs": [
    {
     "name": "stdout",
     "output_type": "stream",
     "text": [
      "The first image is: LC08_L1TP_048020_20130717_20170309_01_T1\n",
      "The bands are: [u'blue', u'green', u'red', u'nir', u'swir1', u'swir2', u'tir', u'ndvi', u'ndwi', u'mndwi', u'ndmi', u'nbr']\n"
     ]
    }
   ],
   "source": [
    "# Select first image\n",
    "image = col.first()\n",
    "\n",
    "# Correct surface reflectance \n",
    "image = SR(image)\n",
    "\n",
    "# Calculate indices\n",
    "image = NDVI(image)\n",
    "\n",
    "print \"The first image is:\", image.get('LANDSAT_ID').getInfo()\n",
    "print \"The bands are:\", image.bandNames().getInfo()"
   ]
  },
  {
   "cell_type": "markdown",
   "metadata": {},
   "source": [
    "### 6.2 Display first image"
   ]
  },
  {
   "cell_type": "code",
   "execution_count": 33,
   "metadata": {},
   "outputs": [
    {
     "data": {
      "text/html": [
       "<img src=\"https://earthengine.googleapis.com/api/thumb?thumbid=50d3ffdbc3a8b6e672e0934fc753e438&token=4b55a73e471ceb9babe6961511c26a14\"/>"
      ],
      "text/plain": [
       "<IPython.core.display.Image object>"
      ]
     },
     "execution_count": 33,
     "metadata": {},
     "output_type": "execute_result"
    }
   ],
   "source": [
    "thumbnail = image.getThumbUrl({'bands': 'swir1,nir,red', 'min':0,'max':0.4,'size':'800'})\n",
    "Image(url=thumbnail)"
   ]
  },
  {
   "cell_type": "code",
   "execution_count": 43,
   "metadata": {},
   "outputs": [
    {
     "name": "stdout",
     "output_type": "stream",
     "text": [
      "https://earthengine.googleapis.com/api/download?docid=7a110a3638b49d4fe887ca90580b23f2&token=b013076fefeeeb61c7f9a6a1c7f045c6\n",
      "https://earthengine.googleapis.com/api/download?docid=31e2ec5980195c0c55f9b82cf454914e&token=d44df16a740d45b2904393baa1bb9ef1\n"
     ]
    }
   ],
   "source": [
    "# Get a download URL for an image.\n",
    "path = image.select(['swir1','nir','red','ndvi']).getDownloadUrl({'scale': 30, 'crs': 'EPSG:4326'})\n",
    "print path"
   ]
  }
 ],
 "metadata": {
  "kernelspec": {
   "display_name": "Python 2",
   "language": "python",
   "name": "python2"
  },
  "language_info": {
   "codemirror_mode": {
    "name": "ipython",
    "version": 2
   },
   "file_extension": ".py",
   "mimetype": "text/x-python",
   "name": "python",
   "nbconvert_exporter": "python",
   "pygments_lexer": "ipython2",
   "version": "2.7.15"
  }
 },
 "nbformat": 4,
 "nbformat_minor": 2
}
